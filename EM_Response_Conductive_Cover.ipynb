{
 "cells": [
  {
   "cell_type": "code",
   "execution_count": 2,
   "metadata": {
    "ExecuteTime": {
     "start_time": "2023-11-28T01:58:45.343692400Z"
    },
    "is_executing": true
   },
   "outputs": [
    {
     "data": {
      "text/html": [
       "<style>.container { width:100% !important; }</style>"
      ],
      "text/plain": [
       "<IPython.core.display.HTML object>"
      ]
     },
     "metadata": {},
     "output_type": "display_data"
    },
    {
     "data": {
      "text/html": [
       "<style>div.output_scroll { height: 44em; }</style>"
      ],
      "text/plain": [
       "<IPython.core.display.HTML object>"
      ]
     },
     "metadata": {},
     "output_type": "display_data"
    }
   ],
   "source": [
    "%matplotlib ipympl\n",
    "from JupyterSphere import SphereWidget\n",
    "from IPython.display import display, HTML\n",
    "display(HTML(\"<style>.container { width:100% !important; }</style>\"))\n",
    "display(HTML(\"<style>div.output_scroll { height: 44em; }</style>\"))"
   ]
  },
  {
   "cell_type": "markdown",
   "metadata": {},
   "source": [
    "# Sphere-overburden algorithm\n",
    "\n",
    "In this notebook, we will simulate the airborne EM response of a sphere underlying conductive overburden, The solution is calculated using the semi-analytic solution set presented in Desmerais & Smith (2016).\n",
    "\n",
    "\n",
    "For more on the sphere-overburden solution see:\n",
    "\n",
    "- [(Desmarais and Smith., 2016)](https://library.seg.org/doi/10.1190/geo2015-0597.1): Approximate semianalytical solutions for the electromagnetic response of a dipping-sphere interacting with conductive overburden\n"
   ]
  },
  {
   "cell_type": "markdown",
   "metadata": {},
   "source": [
    "##  EM Overview\n",
    "The changing primary field generates electrical currents termed secondary currents in conductive material in the ground. These currents in turn, have an associated secondary magnetic field that propagates out from the conductive body and is measured at or above surface at the receiver producing a secondary field that generally decays with time after the transmitter shut off.\n",
    "\n",
    "This secondary field is measured in intervals termed time windows that are generally numbered from early to late time. The amplitude and decay rate of the secondary field measured at the receiver provides information about contrasting physical properties of the subsurface, this contrast in physical properties allows us to detect conductive bodies at depth and make geological interpretations of the subsurface.\n",
    "\n",
    "\n",
    "<img src=\"https://raw.githubusercontent.com/adzamper/sphere-notebook/main/pycharmnotebook/figures/figure9.PNG\" width=100%>\n",
    "\n",
    "## Model\n",
    "\n",
    "Synthetic model of a sphere underlying conductive overburden showing the electromagnetic parameters and body geometry that you will be changing through the course of this lab.\n",
    "\n",
    "\n",
    "<img src=\"https://raw.githubusercontent.com/adzamper/sphere-notebook/main/pycharmnotebook/figures/figure2.png\" width=75%>\n"
   ]
  },
  {
   "cell_type": "markdown",
   "metadata": {},
   "source": [
    "## Parameters:"
   ]
  },
  {
   "cell_type": "markdown",
   "metadata": {},
   "source": [
    "- $a$: radius of sphere (m)\n",
    "- $\\sigma_{ob}$: overburden conductivity (S/m)\n",
    "- $\\sigma_{sp}$: sphere conductivity (S/m)\n",
    "- $t$: overburden thickness (m)\n",
    "- $d$: depth to center of sphere (m)\n",
    "- $tx_z$: transmitter height above surface (m)\n",
    "- $tx-rx_x$: distance transmitter is infront of the receiver (m)\n",
    "- $tx-rx_z$: distance transmitter is above the receiver (m)\n",
    "- $dip$: dip of sphere\n",
    "\n"
   ]
  },
  {
   "cell_type": "code",
   "execution_count": 3,
   "metadata": {
    "ExecuteTime": {
     "end_time": "2023-11-28T01:54:50.859890200Z",
     "start_time": "2023-11-28T01:54:50.800055200Z"
    },
    "scrolled": false
   },
   "outputs": [
    {
     "data": {
      "application/vnd.jupyter.widget-view+json": {
       "model_id": "7cd0bf5497ca4c7183f63f3c0a93a28c",
       "version_major": 2,
       "version_minor": 0
      },
      "text/plain": [
       "interactive(children=(FloatText(value=100.0, description='$a$', step=1.0), FloatText(value=0.03, description='…"
      ]
     },
     "metadata": {},
     "output_type": "display_data"
    },
    {
     "data": {
      "text/plain": [
       "<function JupyterSphere.sphereresponse(aw, sigob, sigsp, thickob, depth, txheight, rxoffsetx, rxoffsetz, dipw)>"
      ]
     },
     "execution_count": 3,
     "metadata": {},
     "output_type": "execute_result"
    }
   ],
   "source": [
    "SphereWidget()"
   ]
  },
  {
   "cell_type": "code",
   "execution_count": null,
   "metadata": {},
   "outputs": [],
   "source": []
  }
 ],
 "metadata": {
  "anaconda-cloud": {},
  "kernelspec": {
   "display_name": "Python 3 (ipykernel)",
   "language": "python",
   "name": "python3"
  },
  "language_info": {
   "codemirror_mode": {
    "name": "ipython",
    "version": 3
   },
   "file_extension": ".py",
   "mimetype": "text/x-python",
   "name": "python",
   "nbconvert_exporter": "python",
   "pygments_lexer": "ipython3",
   "version": "3.9.18"
  },
  "widgets": {
   "state": {
    "234b50583b3246edb24ab70aee35c4e4": {
     "views": [
      {
       "cell_index": 5
      }
     ]
    }
   },
   "version": "1.2.0"
  }
 },
 "nbformat": 4,
 "nbformat_minor": 1
}
